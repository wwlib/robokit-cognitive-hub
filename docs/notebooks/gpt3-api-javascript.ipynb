{
 "cells": [
  {
   "cell_type": "code",
   "execution_count": 1,
   "metadata": {},
   "outputs": [
    {
     "data": {
      "text/plain": [
       "'ok'"
      ]
     },
     "execution_count": 1,
     "metadata": {},
     "output_type": "execute_result"
    }
   ],
   "source": [
    "dotenv = require('dotenv')\n",
    "OpenAI = require(\"openai\")\n",
    "\n",
    "dotenv.config()\n",
    "'ok'"
   ]
  },
  {
   "cell_type": "code",
   "execution_count": 2,
   "metadata": {},
   "outputs": [
    {
     "data": {
      "text/plain": [
       "'v16.19.0'"
      ]
     },
     "execution_count": 2,
     "metadata": {},
     "output_type": "execute_result"
    }
   ],
   "source": [
    "process.version"
   ]
  },
  {
   "cell_type": "code",
   "execution_count": 3,
   "metadata": {},
   "outputs": [
    {
     "data": {
      "text/plain": [
       "'ok'"
      ]
     },
     "execution_count": 3,
     "metadata": {},
     "output_type": "execute_result"
    }
   ],
   "source": [
    "configuration = new OpenAI.Configuration({\n",
    "    apiKey: process.env.OPENAI_API_KEY,\n",
    "})\n",
    "openai = new OpenAI.OpenAIApi(configuration)\n",
    "'ok'"
   ]
  },
  {
   "cell_type": "code",
   "execution_count": 4,
   "metadata": {},
   "outputs": [],
   "source": [
    "//openai"
   ]
  },
  {
   "cell_type": "code",
   "execution_count": null,
   "metadata": {},
   "outputs": [],
   "source": [
    "openai.listModels().then(result => console.log(result))"
   ]
  },
  {
   "cell_type": "code",
   "execution_count": 33,
   "metadata": {},
   "outputs": [
    {
     "data": {
      "text/plain": [
       "Promise { <pending> }"
      ]
     },
     "execution_count": 33,
     "metadata": {},
     "output_type": "execute_result"
    },
    {
     "name": "stdout",
     "output_type": "stream",
     "text": [
      "COMPLETION.data: {\n",
      "  id: 'cmpl-6bF46hGy4yQCpQL7tdPJ0l1slIoKZ',\n",
      "  object: 'text_completion',\n",
      "  created: 1674334066,\n",
      "  model: 'text-davinci-003',\n",
      "  choices: [\n",
      "    {\n",
      "      text: ' years ago\\n' +\n",
      "        '\\n' +\n",
      "        'This phrase is from the Gettysburg Address, a speech given by President Abraham Lincoln in 1863. The full phrase is \"Four score and seven years ago our fathers brought forth on this continent, a new nation, conceived in Liberty, and dedicated to the proposition that all men are created equal.\"',\n",
      "      index: 0,\n",
      "      logprobs: null,\n",
      "      finish_reason: 'stop'\n",
      "    }\n",
      "  ],\n",
      "  usage: { prompt_tokens: 4, completion_tokens: 62, total_tokens: 66 }\n",
      "}\n"
     ]
    }
   ],
   "source": [
    "(async () => {\n",
    "    try {\n",
    "        completion = await openai.createCompletion({\n",
    "            model: \"text-davinci-003\",\n",
    "            prompt: \"four score and twenty\",\n",
    "            temperature: 0,\n",
    "            // stop: \". \",\n",
    "            presence_penalty: -2.0,\n",
    "            frequency_penalty: 2.0,\n",
    "            max_tokens: 250\n",
    "        })\n",
    "        console.log('COMPLETION.data:', completion.data)\n",
    "    } catch (error) {\n",
    "        console.log(error)\n",
    "    }\n",
    "})()"
   ]
  },
  {
   "cell_type": "code",
   "execution_count": 32,
   "metadata": {},
   "outputs": [
    {
     "data": {
      "text/plain": [
       "Promise { <pending> }"
      ]
     },
     "execution_count": 32,
     "metadata": {},
     "output_type": "execute_result"
    },
    {
     "name": "stdout",
     "output_type": "stream",
     "text": [
      "COMPLETION.data: {\n",
      "  id: 'cmpl-6bF42sPg4ycNl8jCGEh2kCiIFo0cK',\n",
      "  object: 'text_completion',\n",
      "  created: 1674334062,\n",
      "  model: 'text-davinci-003',\n",
      "  choices: [\n",
      "    {\n",
      "      text: ' years ago\\n' +\n",
      "        '\\n' +\n",
      "        'This phrase is from the Gettysburg Address, a speech given by President Abraham Lincoln in 1863. The full phrase is \"Four score and seven years ago,\" and it refers to the 87 years since the signing of the Declaration of Independence in 1776.',\n",
      "      index: 0,\n",
      "      logprobs: null,\n",
      "      finish_reason: 'stop'\n",
      "    }\n",
      "  ],\n",
      "  usage: { prompt_tokens: 4, completion_tokens: 54, total_tokens: 58 }\n",
      "}\n"
     ]
    }
   ],
   "source": [
    "openai.createCompletion({\n",
    "    model: \"text-davinci-003\",\n",
    "    prompt: \"four score and twenty\",\n",
    "    temperature: 0,\n",
    "    // stop: \". \",\n",
    "    presence_penalty: -2.0,\n",
    "    frequency_penalty: 2.0,\n",
    "    max_tokens: 250\n",
    "})\n",
    ".then(result => {\n",
    "    console.log('COMPLETION.data:', result.data)\n",
    "})\n",
    ".catch(error => {\n",
    "    console.log(error)\n",
    "})"
   ]
  },
  {
   "cell_type": "code",
   "execution_count": null,
   "metadata": {},
   "outputs": [],
   "source": []
  }
 ],
 "metadata": {
  "kernelspec": {
   "display_name": "JavaScript (Node.js)",
   "language": "javascript",
   "name": "javascript"
  },
  "language_info": {
   "file_extension": ".js",
   "mimetype": "application/javascript",
   "name": "javascript",
   "version": "16.19.0"
  }
 },
 "nbformat": 4,
 "nbformat_minor": 4
}
