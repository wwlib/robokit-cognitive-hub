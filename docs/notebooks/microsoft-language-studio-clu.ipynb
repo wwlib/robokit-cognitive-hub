{
 "cells": [
  {
   "cell_type": "markdown",
   "metadata": {},
   "source": [
    "# microsoft-language-studio-clu"
   ]
  },
  {
   "cell_type": "code",
   "execution_count": 1,
   "metadata": {},
   "outputs": [
    {
     "data": {
      "text/plain": [
       "'ok'"
      ]
     },
     "execution_count": 1,
     "metadata": {},
     "output_type": "execute_result"
    }
   ],
   "source": [
    "dotenv = require('dotenv')\n",
    "axios = require('axios');\n",
    "'ok'"
   ]
  },
  {
   "cell_type": "code",
   "execution_count": 4,
   "metadata": {},
   "outputs": [
    {
     "data": {
      "text/plain": [
       "'ok'"
      ]
     },
     "execution_count": 4,
     "metadata": {},
     "output_type": "execute_result"
    }
   ],
   "source": [
    "config = dotenv.config()\n",
    "'ok'"
   ]
  },
  {
   "cell_type": "code",
   "execution_count": 6,
   "metadata": {},
   "outputs": [
    {
     "data": {
      "text/plain": [
       "'https://clu-wwlib.cognitiveservices.azure.com/language/:analyze-conversations?api-version=2022-10-01-preview'"
      ]
     },
     "execution_count": 6,
     "metadata": {},
     "output_type": "execute_result"
    }
   ],
   "source": [
    "requestUrl = 'https://clu-wwlib.cognitiveservices.azure.com/language/:analyze-conversations?api-version=2022-10-01-preview'"
   ]
  },
  {
   "cell_type": "code",
   "execution_count": 7,
   "metadata": {},
   "outputs": [
    {
     "data": {
      "text/plain": [
       "'i would like to play a game'"
      ]
     },
     "execution_count": 7,
     "metadata": {},
     "output_type": "execute_result"
    }
   ],
   "source": [
    "PARTICIPANT_ID = 'robot1'\n",
    "QUERY_LANGUAGE = 'en-us'\n",
    "QUERY_TEXT = 'i would like to play a game'"
   ]
  },
  {
   "cell_type": "code",
   "execution_count": 11,
   "metadata": {},
   "outputs": [
    {
     "data": {
      "text/plain": [
       "{\n",
       "  kind: 'Conversation',\n",
       "  analysisInput: {\n",
       "    conversationItem: {\n",
       "      id: 'robot1',\n",
       "      text: 'i would like to play a game',\n",
       "      modality: 'text',\n",
       "      language: 'en-us',\n",
       "      participantId: 'robot1'\n",
       "    }\n",
       "  },\n",
       "  parameters: {\n",
       "    projectName: 'robo-dispatch',\n",
       "    verbose: true,\n",
       "    deploymentName: 'robo-dispatch-deployment-1',\n",
       "    stringIndexType: 'TextElement_V8'\n",
       "  }\n",
       "}"
      ]
     },
     "execution_count": 11,
     "metadata": {},
     "output_type": "execute_result"
    }
   ],
   "source": [
    "requestBody = {\n",
    "  kind: \"Conversation\",\n",
    "  analysisInput: {\n",
    "    conversationItem: {\n",
    "      id: PARTICIPANT_ID,\n",
    "      text: QUERY_TEXT,\n",
    "      modality: \"text\",\n",
    "      language: QUERY_LANGUAGE,\n",
    "      participantId: PARTICIPANT_ID\n",
    "    }\n",
    "  },\n",
    "  parameters: {\n",
    "    projectName: \"robo-dispatch\",\n",
    "    verbose: true,\n",
    "    deploymentName: \"robo-dispatch-deployment-1\",\n",
    "    stringIndexType: \"TextElement_V8\"\n",
    "  }\n",
    "}"
   ]
  },
  {
   "cell_type": "code",
   "execution_count": 13,
   "metadata": {},
   "outputs": [
    {
     "data": {
      "text/plain": [
       "Promise { <pending> }"
      ]
     },
     "execution_count": 13,
     "metadata": {},
     "output_type": "execute_result"
    },
    {
     "name": "stdout",
     "output_type": "stream",
     "text": [
      "{\n",
      "  kind: 'ConversationResult',\n",
      "  result: {\n",
      "    query: 'i would like to play a game',\n",
      "    prediction: {\n",
      "      topIntent: 'launchGame',\n",
      "      projectKind: 'Conversation',\n",
      "      intents: [Array],\n",
      "      entities: []\n",
      "    }\n",
      "  }\n",
      "}\n"
     ]
    }
   ],
   "source": [
    "axios.post(requestUrl, requestBody,\n",
    "    {\n",
    "        headers: {\n",
    "            'Content-Type': 'application/json',\n",
    "            'Ocp-Apim-Subscription-Key': config.parsed.MS_CLU_SUBSCRIPTION_KEY\n",
    "        }\n",
    "    })\n",
    "    .then(function (response) {\n",
    "        console.log(response.data)\n",
    "    })\n",
    "    .catch(function (error) {\n",
    "        console.log(error)\n",
    "    })"
   ]
  },
  {
   "cell_type": "code",
   "execution_count": null,
   "metadata": {},
   "outputs": [],
   "source": []
  }
 ],
 "metadata": {
  "kernelspec": {
   "display_name": "JavaScript (Node.js)",
   "language": "javascript",
   "name": "javascript"
  },
  "language_info": {
   "file_extension": ".js",
   "mimetype": "application/javascript",
   "name": "javascript",
   "version": "16.19.0"
  }
 },
 "nbformat": 4,
 "nbformat_minor": 4
}
